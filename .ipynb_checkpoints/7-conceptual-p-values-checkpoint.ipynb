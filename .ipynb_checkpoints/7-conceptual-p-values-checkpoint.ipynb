{
 "cells": [
  {
   "cell_type": "markdown",
   "metadata": {},
   "source": [
    "## Was there an effect"
   ]
  },
  {
   "cell_type": "markdown",
   "metadata": {},
   "source": [
    "### Introduction"
   ]
  },
  {
   "cell_type": "markdown",
   "metadata": {},
   "source": [
    "Now, as we mentioned, the idea with experiments is to select a sample from our population, randomly separate the groups, and allocate a treatment to one of the groups.  \n",
    "\n"
   ]
  },
  {
   "cell_type": "markdown",
   "metadata": {},
   "source": [
    "Controlled experiments allow for inferring cause and effect because,if there is a difference between the two groups, then we hope that the only remaining explanation is that the treatment was delivered to one group but not the other.\n",
    "\n",
    "> Now, it will be up to designers and interpreters of the experiment to ensure that it was designed in such a way that it cannot be due to an explanation.\n",
    "\n",
    "But one lingering reason for a difference between the groups is simply that random variation causes a difference in the groups.  So to test whether an apparent effect is due to randomness, statisticians use p values."
   ]
  },
  {
   "cell_type": "markdown",
   "metadata": {},
   "source": [
    "### Null Hypothesis Significance Testing"
   ]
  },
  {
   "cell_type": "markdown",
   "metadata": {},
   "source": [
    "Let's introduce null hypothesis testing and p-values by way of example."
   ]
  },
  {
   "cell_type": "markdown",
   "metadata": {},
   "source": [
    "Imagine that we conduct the experiment and we do see a difference between the two groups.  For example, those who received health insurance, saw their blood pressure *decrease* by 10 points, where those that did not get health insurance saw it decrease by only 1 point."
   ]
  },
  {
   "cell_type": "markdown",
   "metadata": {},
   "source": [
    "Now, we know that even if there was no treatment, there will likely be a difference between the two groups' blood pressure scores.  This is because there is always variation in a dataset, which means there will be some degree of variation between two randomly separated groups of data.  So was our difference in blood pressure scores due to chance or because of the health insurance?  Null hypothesis testing and p-values can help us out.\n",
    "\n",
    "The logic goes like this.  \n",
    "\n",
    "1. We see a difference between the two groups\n",
    "2. But let's still, assume the treatment had no effect.  This is our null hypothesis.\n",
    "3. Assuming the treatment had no effect, what's the probability of seeing an difference at least this large.\n",
    "4. If that probability is small, then we reject the null hypothesis and conclude there is evidence for the alternative hypothesis."
   ]
  },
  {
   "cell_type": "markdown",
   "metadata": {},
   "source": [
    "Let's break down these steps more formally."
   ]
  },
  {
   "cell_type": "markdown",
   "metadata": {},
   "source": [
    "### 1. Set up the hypotheses"
   ]
  },
  {
   "cell_type": "markdown",
   "metadata": {},
   "source": [
    "Let's start from the beginning, we performing an experiment to see if health insurance reduces the blood pressure.  We randomly assign the those enrolled in the experiment to either a treatment or control group, measure their blood pressure at the beginning of the experiment, and again after three months.  \n",
    "\n",
    "Our first step is to establish our null and alternative hypothesis."
   ]
  },
  {
   "cell_type": "markdown",
   "metadata": {},
   "source": [
    "* The null hypothesis is that health insurance **does not** decrease blood pressure in individuals\n",
    "* The alternative hypothesis is that health insurance does decrease blood pressure in individuals\n",
    "\n",
    "The null hypothesis is always that the treatment has no effect.  Or in other words, that nothing interesting occurs.  The alternative hypothesis is that the treatment does have an effect. \n",
    "\n",
    "We symbolize the null hypothesis as $H_0$ and the alternative hypothesis as $H_A$.  So here we can specify our hypotheses as the following:\n",
    "\n",
    "* $H_0:$ Health insurance coverage does not decrease the blood pressure in individuals\n",
    "* $H_A:$ Health insurance coverage decreases the blood pressure in individuals"
   ]
  },
  {
   "cell_type": "markdown",
   "metadata": {},
   "source": [
    "### 2. Assume the null hypothesis"
   ]
  },
  {
   "cell_type": "markdown",
   "metadata": {},
   "source": [
    "After setting up $H_0$ and $H_A$, the next step is to perform the experiment, collect the results and see if anything occurred.  To see if anything occurred, we assume the null hypothesis.  In other words, we assume that nothing happened.  Then the p-value is the probability of seeing our observed results, given that nothing happened. \n",
    "\n",
    "If the probability seeing our result given the null hypothesis is less than some threshold, we reject the null hypothesis. \n",
    "> Generally the threshold is a number like $.05$ or $.01$.  Let's say for this experiment it's $.05$."
   ]
  },
  {
   "cell_type": "markdown",
   "metadata": {},
   "source": [
    "We can write, the probability of $x$ given the null hypothesis like so:\n",
    "\n",
    "> $P(X | H_0)$"
   ]
  },
  {
   "cell_type": "markdown",
   "metadata": {},
   "source": [
    "So then we can say that our logic for whether to reject the null hypothesis is:"
   ]
  },
  {
   "cell_type": "markdown",
   "metadata": {},
   "source": [
    "If $P(x | H_0) < .05$:\n",
    "\n",
    "* Reject null hypothesis and have evidence for the alternative hypothesis."
   ]
  },
  {
   "cell_type": "markdown",
   "metadata": {},
   "source": [
    "If $P(x|H_0 ) > .05$:\n",
    "* Do not reject the null hypothesis.  \n",
    "* It could be due to random chance."
   ]
  },
  {
   "cell_type": "markdown",
   "metadata": {},
   "source": [
    "That probability, the probability of the null hypothesis being true, is called the p-value.\n",
    "\n",
    "> The p-value is the probability seeing the data assuming the null hypothesis is true.  That is, it is the probability that, even if nothing is going on, but we still see the observed effect, just due to random chance."
   ]
  },
  {
   "cell_type": "markdown",
   "metadata": {},
   "source": [
    "### What's the threshold?"
   ]
  },
  {
   "cell_type": "markdown",
   "metadata": {},
   "source": [
    "Now the question that generally arises next is, what's a good cutoff point for declaring that we can reject the null hypothesis, or not."
   ]
  },
  {
   "cell_type": "markdown",
   "metadata": {},
   "source": [
    "Well a good chart is the following:"
   ]
  },
  {
   "cell_type": "markdown",
   "metadata": {},
   "source": [
    "<img src=\"https://imgs.xkcd.com/comics/p_values_2x.png\" width=\"25%\">"
   ]
  },
  {
   "cell_type": "markdown",
   "metadata": {},
   "source": [
    "Generally, anywhere at $.01$ or less is considered significant.  And between $.01$ and $.05$ we can say is maybe significant.  Anywhere above that and we do not have enough evidence to reject the null hypothesis."
   ]
  },
  {
   "cell_type": "markdown",
   "metadata": {},
   "source": [
    "### Resources"
   ]
  },
  {
   "cell_type": "markdown",
   "metadata": {},
   "source": [
    "[Khan Academy P-values](https://www.khanacademy.org/math/statistics-probability/significance-tests-one-sample/more-significance-testing-videos/v/hypothesis-testing-and-p-values)"
   ]
  },
  {
   "cell_type": "markdown",
   "metadata": {},
   "source": [
    "[AB Testing Neil Patel](https://neilpatel.com/blog/50-split-testing-ideas-you-can-run-today/)\n",
    "\n",
    "[Neil Patel Continued](https://neilpatel.com/blog/19-obvious-ab-tests/)"
   ]
  }
 ],
 "metadata": {
  "kernelspec": {
   "display_name": "Python 3",
   "language": "python",
   "name": "python3"
  },
  "language_info": {
   "codemirror_mode": {
    "name": "ipython",
    "version": 3
   },
   "file_extension": ".py",
   "mimetype": "text/x-python",
   "name": "python",
   "nbconvert_exporter": "python",
   "pygments_lexer": "ipython3",
   "version": "3.7.4"
  }
 },
 "nbformat": 4,
 "nbformat_minor": 4
}
