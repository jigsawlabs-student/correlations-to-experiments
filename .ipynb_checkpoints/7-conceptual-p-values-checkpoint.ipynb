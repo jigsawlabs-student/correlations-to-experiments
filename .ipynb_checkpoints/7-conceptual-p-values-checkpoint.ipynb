{
 "cells": [
  {
   "cell_type": "markdown",
   "metadata": {},
   "source": [
    "## Was there an effect"
   ]
  },
  {
   "cell_type": "markdown",
   "metadata": {},
   "source": [
    "### Introduction"
   ]
  },
  {
   "cell_type": "markdown",
   "metadata": {},
   "source": [
    "Now, as we mentioned, the idea with experiments is to select a sample from our population, randomly separate the groups, and give one of the groups the treatment.  Controlled experiments allow for inferring cause and effect because,if there is a difference between the two groups, then we hope that the only explanation remaining explanation is the treatment delivered to one group but not the other.\n",
    "\n",
    "> Now, it will be up to designers and interpreters of the experiment to ensure that it was designed in such a way that it cannot be due to an explanation.\n",
    "\n",
    "But one lingering reason for a difference between the groups is simply random variation that happens to cause a difference in the groups.  So to test whether an apparent effect is due to randomness, statisticians use p values."
   ]
  },
  {
   "cell_type": "markdown",
   "metadata": {},
   "source": [
    "![](https://mermaid.ink/img/eyJjb2RlIjoiZ3JhcGggTFJcbiAgICBHWyBGb3JtIEh5cG90aGVzaXMgUXVlc3Rpb246IFBJQ09dXG4gICAgXG5cdEFbRGVmaW5lIHBvcHVsYXRpb25dIC0tPiBCKEVucm9sbCBTYW1wbGUpXG5cdHN0eWxlIEQgZmlsbDojZjlmLHN0cm9rZTojMzMzLHN0cm9rZS13aWR0aDo0cHhcbiAgICBCKEVucm9sbCBTYW1wbGUpIC0tPiBcblx0Q1tSYW5kb21seSBTcGxpdF0gLS0-fERlbGl2ZXIgVHJlYXRtZW50fCBEW1RyZWF0bWVudCBHcm91cF1cblx0QyAtLT58RGVsaXZlciBDb21wYXJhdG9yfCBFW0NvbnRyb2wgR3JvdXBdXG4gICAgRSAtLi1IW0RpZmZlcmVuY2U_XVxuICAgIEQgLS4tSFtEaWZmZXJlbmNlP11cblx0XG5cdFx0XHRcdFx0IiwibWVybWFpZCI6eyJ0aGVtZSI6ImRlZmF1bHQifSwidXBkYXRlRWRpdG9yIjpmYWxzZX0)\n"
   ]
  },
  {
   "cell_type": "markdown",
   "metadata": {},
   "source": [
    "### Null Hypothesis Significance Testing"
   ]
  },
  {
   "cell_type": "markdown",
   "metadata": {},
   "source": [
    "Let's introduce null hypothesis testing and p-values by way of example."
   ]
  },
  {
   "cell_type": "markdown",
   "metadata": {},
   "source": [
    "Imagine that we conduct the experiment and we do see a difference between the two groups.  For example, those who received health insurance, saw their depression *decrease* by 10 points, where those did not get health insurance saw it decrease by 1 point."
   ]
  },
  {
   "cell_type": "markdown",
   "metadata": {},
   "source": [
    "Now, we know that even if there was no treatment, there will likely be a change in the depression.  So was this due to chance or because of the health insurance?  Null hypothesis testing and p-values can help us out.\n",
    "\n",
    "The logic goes like this.  \n",
    "\n",
    "1. We see a difference between the two groups\n",
    "1. But let's still, assume the treatment had no effect.  This is our null hypothesis.\n",
    "2. Assuming the treatment had no effect, what's the probability of seeing an difference at least this large.\n",
    "4. If that probability is small, then we reject the null hypothesis and conclude something did occur."
   ]
  },
  {
   "cell_type": "markdown",
   "metadata": {},
   "source": [
    "Let's break down these steps more formally."
   ]
  },
  {
   "cell_type": "markdown",
   "metadata": {},
   "source": [
    "### 1. Set up the hypotheses"
   ]
  },
  {
   "cell_type": "markdown",
   "metadata": {},
   "source": [
    "Let's start from the beginning, we performing an experiment to see if health insurance reduces the depression.  We randomly assign the those enrolled in the experiment to either a treatment or control group, measure their depression at the before receiving health insurance, and after three months of use.  \n",
    "\n",
    "Our first step is to establish our null and alternative hypothesis."
   ]
  },
  {
   "cell_type": "markdown",
   "metadata": {},
   "source": [
    "* The null hypothesis is that health insurance **does not** decrease depression in individuals\n",
    "* The alternative hypothesis is that health insurance does depression in individuals\n",
    "\n",
    "The null hypothesis is always that the treatment has no effect.  Or in other words, that nothing interesting occurs.  The alternative hypothesis is that the treatment does have an effect. \n",
    "\n",
    "We symbolize the null hypothesis as $H_0$ and the alternative hypothesis as $H_A$.  So here we can specify our hypotheses as the following:\n",
    "\n",
    "* $H_0:$ Health insurance coverage does not decrease the amount of depression in individuals\n",
    "* $H_A:$ Health insurance coverage decreases the amount of depression in individuals"
   ]
  },
  {
   "cell_type": "markdown",
   "metadata": {},
   "source": [
    "### 2. Assume the null hypothesis"
   ]
  },
  {
   "cell_type": "markdown",
   "metadata": {},
   "source": [
    "After setting up $H_0$ and $H_A$, the next step is to perform the experiment, collect the results and see if anything occurred.  In the seeing if anything occurred, we assume the nully hypothesis.  That is we assume that nothing happened.  Then the p-value is the probability that nothing happened. \n",
    "\n",
    "If the probability of the null hypothesis is less than some threshold, we reject the null hypothesis.  Generally the threshold is a number like .05 or .01.  Let's say for this experiment it's $.05$."
   ]
  },
  {
   "cell_type": "markdown",
   "metadata": {},
   "source": [
    "If $P(H_0) < .05$:\n",
    "* Reject null hypothesis and have evidence for the alternative hypothesis."
   ]
  },
  {
   "cell_type": "markdown",
   "metadata": {},
   "source": [
    "If $P(H_0) > .05$:\n",
    "* Do not reject the null hypothesis.  \n",
    "* It could be due to random chance."
   ]
  },
  {
   "cell_type": "markdown",
   "metadata": {},
   "source": [
    "That probability, the probability of the null hypothesis being true, is called the p-value.\n",
    "\n",
    "> The p-value is the probability of the null hypothesis being true.  That is, it is the probability that nothing is going on, but we still observed experiment's effect, just due to random chance."
   ]
  },
  {
   "cell_type": "markdown",
   "metadata": {},
   "source": [
    "### What's the threshold?"
   ]
  },
  {
   "cell_type": "markdown",
   "metadata": {},
   "source": [
    "Now the question that generally arises next is, what's a good cutoff point for declaring that we can reject the null hypothesis, or not."
   ]
  },
  {
   "cell_type": "markdown",
   "metadata": {},
   "source": [
    "Well a good chart is the following:"
   ]
  },
  {
   "cell_type": "markdown",
   "metadata": {},
   "source": [
    "<img src=\"https://imgs.xkcd.com/comics/p_values_2x.png\" width=\"25%\">"
   ]
  },
  {
   "cell_type": "markdown",
   "metadata": {},
   "source": [
    "Generally, anywhere at .03 or lower is considered significant.  And between .03 and .05 we can say is maybe significant.  Anywhere above that and we do not have enough evidence to reject the null hypothesis."
   ]
  },
  {
   "cell_type": "markdown",
   "metadata": {},
   "source": [
    "### Resources"
   ]
  },
  {
   "cell_type": "markdown",
   "metadata": {},
   "source": [
    "[Khan Academy P-values](https://www.khanacademy.org/math/statistics-probability/significance-tests-one-sample/more-significance-testing-videos/v/hypothesis-testing-and-p-values)"
   ]
  },
  {
   "cell_type": "markdown",
   "metadata": {},
   "source": [
    "[AB Testing Neil Patel](https://neilpatel.com/blog/50-split-testing-ideas-you-can-run-today/)\n",
    "\n",
    "[Neil Patel Continued](https://neilpatel.com/blog/19-obvious-ab-tests/)"
   ]
  },
  {
   "cell_type": "code",
   "execution_count": null,
   "metadata": {},
   "outputs": [],
   "source": []
  }
 ],
 "metadata": {
  "kernelspec": {
   "display_name": "Python 3",
   "language": "python",
   "name": "python3"
  },
  "language_info": {
   "codemirror_mode": {
    "name": "ipython",
    "version": 3
   },
   "file_extension": ".py",
   "mimetype": "text/x-python",
   "name": "python",
   "nbconvert_exporter": "python",
   "pygments_lexer": "ipython3",
   "version": "3.7.4"
  }
 },
 "nbformat": 4,
 "nbformat_minor": 4
}
