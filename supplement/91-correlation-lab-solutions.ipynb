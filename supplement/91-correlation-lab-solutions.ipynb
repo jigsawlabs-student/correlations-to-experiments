{
 "cells": [
  {
   "cell_type": "markdown",
   "metadata": {},
   "source": [
    "# Problems with Correlations"
   ]
  },
  {
   "cell_type": "markdown",
   "metadata": {},
   "source": [
    "### How Correlation Can Go Wrong"
   ]
  },
  {
   "cell_type": "markdown",
   "metadata": {},
   "source": [
    "* The Ideal:\n",
    "    *  (X → Y)"
   ]
  },
  {
   "cell_type": "markdown",
   "metadata": {},
   "source": [
    "### Bidirectional Causation"
   ]
  },
  {
   "cell_type": "markdown",
   "metadata": {},
   "source": [
    "* A correlation between recreational drug use and psychiatric disorders might be either way around: perhaps the drugs cause the disorders, or perhaps people use drugs to self medicate for preexisting conditions."
   ]
  },
  {
   "cell_type": "markdown",
   "metadata": {},
   "source": [
    "* Crime rates and police\n",
    "    * Do police lead to higher crime rates or do higher crime rates lead to more police?  Maybe both.\n",
    "    * Police leads to higher crime rates because more police are there to find criminality.\n",
    "    * Higher crime rates lead to more police presence.\n",
    "   "
   ]
  },
  {
   "cell_type": "markdown",
   "metadata": {},
   "source": [
    "1. Reverse Causality\n",
    "\n",
    "* Y -> X"
   ]
  },
  {
   "cell_type": "markdown",
   "metadata": {},
   "source": [
    "* A historical example of this is that Europeans in the Middle Ages believed that lice were beneficial to your health, since there would rarely be any lice on sick people. The reasoning was that the people got sick because the lice left. \n",
    "\n",
    "* The real reason however is that lice are extremely sensitive to body temperature. A small increase of body temperature, such as in a fever, will make the lice look for another host. The medical thermometer had not yet been invented, so this increase in temperature was rarely noticed. "
   ]
  },
  {
   "cell_type": "markdown",
   "metadata": {},
   "source": [
    "2. Confounding Variable"
   ]
  },
  {
   "cell_type": "markdown",
   "metadata": {},
   "source": [
    "* W and \n",
    "* W → X and W → Y"
   ]
  },
  {
   "cell_type": "markdown",
   "metadata": {},
   "source": [
    "* Higher education and higher salaries?"
   ]
  },
  {
   "cell_type": "markdown",
   "metadata": {},
   "source": [
    "* Do storks deliver babies?"
   ]
  },
  {
   "cell_type": "markdown",
   "metadata": {},
   "source": [
    "<img src=\"./storks-deliver-babies.png\" width=\"50%\">"
   ]
  },
  {
   "cell_type": "markdown",
   "metadata": {},
   "source": [
    "* Vaccines causing autism"
   ]
  },
  {
   "cell_type": "markdown",
   "metadata": {},
   "source": [
    "3. Coincidental Relationship"
   ]
  },
  {
   "cell_type": "markdown",
   "metadata": {},
   "source": [
    "* As ice cream sales increase, the rate of drowning deaths increases sharply.\n",
    "* Therefore, ice cream consumption causes drowning."
   ]
  },
  {
   "cell_type": "markdown",
   "metadata": {},
   "source": [
    "### Spurious Relationship - Confounding Variable"
   ]
  },
  {
   "cell_type": "markdown",
   "metadata": {},
   "source": [
    "* Sleeping with one's shoes on is strongly correlated with waking up with a headache.\n",
    "Therefore, sleeping with one's shoes on causes headache."
   ]
  },
  {
   "cell_type": "markdown",
   "metadata": {},
   "source": [
    "* HDL (\"good\") cholesterol is negatively correlated with incidence of heart attack.\n",
    "Therefore, taking medication to raise HDL decreases the chance of having a heart attack."
   ]
  },
  {
   "cell_type": "markdown",
   "metadata": {},
   "source": [
    "### Coincidental Relationship"
   ]
  },
  {
   "cell_type": "markdown",
   "metadata": {},
   "source": [
    "* A bald (or obviously balding) state leader of Russia has succeeded a non-bald (\"hairy\") one, and vice versa, for nearly 200 years."
   ]
  },
  {
   "cell_type": "markdown",
   "metadata": {},
   "source": [
    "* The result of the last home game by the Washington Redskins prior to the presidential election predicted the outcome of every presidential election from 1936 to 2000 inclusive."
   ]
  },
  {
   "cell_type": "markdown",
   "metadata": {},
   "source": [
    "Sleeping with one's shoes on is strongly correlated with waking up with a headache.  Would we say that sleeping with one's shoes causes a headache\n",
    "Therefore, sleeping with one's shoes on causes headache.\n",
    "\n",
    "So here, removing someone's shoes will not decrease the prevalence of a headache.\n",
    "\n",
    "* $Remove$ $Shoes$ $\\not\\rightarrow$ $Remove$ $Headache$\n",
    "\n",
    "* $Add$ $Shoes$ $\\not\\rightarrow$ $Add$ $Headache$"
   ]
  },
  {
   "cell_type": "markdown",
   "metadata": {},
   "source": [
    "* Poverty increases the number of food stamps.\n",
    "* And with a moral hazard, the number of food stamps increases the amount of poverty."
   ]
  },
  {
   "cell_type": "markdown",
   "metadata": {},
   "source": [
    "<img src=\"./poverty-food-stamps.png\" width=\"50%\">"
   ]
  },
  {
   "cell_type": "markdown",
   "metadata": {},
   "source": [
    "<img src=\"independent-dependent.png\" width=\"50%\">"
   ]
  },
  {
   "cell_type": "markdown",
   "metadata": {},
   "source": [
    "> Try to find the genes associated with schizophrenia."
   ]
  },
  {
   "cell_type": "markdown",
   "metadata": {},
   "source": [
    "The problem is that we are checking one indication of schizophrenia and 10000 different markers.  So by chance, there will be a measure fo these lining up.  Because we have actually done 10000 different tests and one of them happens to line up."
   ]
  },
  {
   "cell_type": "markdown",
   "metadata": {},
   "source": []
  },
  {
   "cell_type": "markdown",
   "metadata": {},
   "source": []
  },
  {
   "cell_type": "markdown",
   "metadata": {},
   "source": [
    "### Resources\n",
    "\n",
    "[Tyler Vigen](https://www.tylervigen.com/spurious-correlations)"
   ]
  }
 ],
 "metadata": {
  "kernelspec": {
   "display_name": "Python 3",
   "language": "python",
   "name": "python3"
  },
  "language_info": {
   "codemirror_mode": {
    "name": "ipython",
    "version": 3
   },
   "file_extension": ".py",
   "mimetype": "text/x-python",
   "name": "python",
   "nbconvert_exporter": "python",
   "pygments_lexer": "ipython3",
   "version": "3.7.4"
  }
 },
 "nbformat": 4,
 "nbformat_minor": 4
}
