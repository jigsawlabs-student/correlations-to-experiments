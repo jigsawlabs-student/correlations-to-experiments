{
 "cells": [
  {
   "cell_type": "markdown",
   "metadata": {},
   "source": [
    "# Alternatives to Causation Lab"
   ]
  },
  {
   "cell_type": "markdown",
   "metadata": {},
   "source": [
    "### Introduction"
   ]
  },
  {
   "cell_type": "markdown",
   "metadata": {},
   "source": [
    "In the last lesson, we saw that just because there is a correlation between X and Y does not mean that there is a correlation between X and Y.  While perhaps, we may have heard that before, it's still important to have a structured way to consider the alternatives.  \n",
    "\n",
    "In the last lesson, we saw that instead of X causing Y, alternatives could be the following:\n",
    "\n",
    "* Reverse Causality\n",
    "* Confounding Variable\n",
    "* Bi-directional Causality\n",
    "* Coincidental Correlation"
   ]
  },
  {
   "cell_type": "markdown",
   "metadata": {},
   "source": [
    "While, we may ultimately argue that even with alternative explanations to correlation, X still causes Y, it's important to consider (and perhaps dismantle) the opposing arguments.  Let's get some practice."
   ]
  },
  {
   "cell_type": "markdown",
   "metadata": {},
   "source": [
    "### Examples"
   ]
  },
  {
   "cell_type": "markdown",
   "metadata": {},
   "source": [
    "Consider the following situations, consider whether some alternatives to direct causation can explain the correlation.  Write down what might be occcuring."
   ]
  },
  {
   "cell_type": "markdown",
   "metadata": {},
   "source": [
    "1. Drugs and Disorders\n",
    "* Those who engage in recreational drug use are likely to have to have psychiatric disorders.\n",
    "* Recreational Drug Use $\\rightarrow$ Psychiatric Disorders\n",
    "* Counter: "
   ]
  },
  {
   "cell_type": "markdown",
   "metadata": {},
   "source": [
    "Recreational Drug Use $\\leftarrow$ Psychiatric Disorders"
   ]
  },
  {
   "cell_type": "markdown",
   "metadata": {},
   "source": [
    "2. Crime and Police\n",
    "    * Higher crime rates lead to more police presence.\n",
    "    * More crime $\\rightarrow$ police\n",
    "    * crime $\\leftarrow$ police"
   ]
  },
  {
   "cell_type": "markdown",
   "metadata": {},
   "source": [
    "3. Storks deliver babies\n",
    "\n",
    "Countries with more storks, also have more births"
   ]
  },
  {
   "cell_type": "markdown",
   "metadata": {},
   "source": [
    "<img src=\"./storks-deliver-babies.png\" width=\"50%\">"
   ]
  },
  {
   "cell_type": "code",
   "execution_count": null,
   "metadata": {},
   "outputs": [],
   "source": []
  },
  {
   "cell_type": "markdown",
   "metadata": {},
   "source": [
    "* More Storks $\\rightarrow$ babies\n",
    "* Counter: "
   ]
  },
  {
   "cell_type": "markdown",
   "metadata": {},
   "source": [
    "4. Those with more education have higher salaries\n",
    "    * $\\uparrow$ Education $\\rightarrow$ $\\uparrow$ salary\n",
    "    * Counter: "
   ]
  },
  {
   "cell_type": "markdown",
   "metadata": {},
   "source": [
    "5. Shoes and Headaches\n",
    "* Sleeping with shoes on is strongly correlated with waking up with a headache.\n",
    "* Sleeping with one's shoes $\\rightarrow$ headache.\n",
    "* Counter: Alcohol"
   ]
  },
  {
   "cell_type": "markdown",
   "metadata": {},
   "source": [
    "6. Football and Elections"
   ]
  },
  {
   "cell_type": "markdown",
   "metadata": {},
   "source": [
    "* The result of the last home game by Washington's Football team prior to the presidential election predicted the outcome of every presidential election from 1936 to 2000 inclusive.\n",
    "* Redskins Game $\\rightarrow$ President"
   ]
  },
  {
   "cell_type": "markdown",
   "metadata": {},
   "source": [
    "7. The more impoverished a community the more food stamps\n",
    "* More poverty $\\rightarrow$ more food stamps\n",
    "* Counter:"
   ]
  },
  {
   "cell_type": "markdown",
   "metadata": {},
   "source": [
    "8. Good Cholesterol and Heart attacks"
   ]
  },
  {
   "cell_type": "markdown",
   "metadata": {},
   "source": [
    "* HDL (\"good\") cholesterol is negatively correlated with incidence of heart attack.\n",
    "* Therefore, taking medication to raise HDL decreases the chance of having a heart attack.\n",
    "* More HDL $\\rightarrow$ fewer heart attacks\n",
    "* Counter: "
   ]
  },
  {
   "cell_type": "markdown",
   "metadata": {},
   "source": [
    "### Summary"
   ]
  },
  {
   "cell_type": "markdown",
   "metadata": {},
   "source": [
    "In this lesson, we practiced considering alternative explanations for correlations, simply then X causing Y.  Once again, here were some of the alternatives:\n",
    "\n",
    "* Reverse Causality\n",
    "* Confounding Variable\n",
    "* Bi-directional Causality\n",
    "* Coincidental Correlation"
   ]
  },
  {
   "cell_type": "markdown",
   "metadata": {},
   "source": [
    "### Resources\n",
    "\n",
    "* [Calling Bullshit Course](https://www.youtube.com/watch?v=YAAHJm1pi1E&list=PLPnZfvKID1Sje5jWxt-4CSZD7bUI4gSPS&index=12)\n",
    "* [Tyler Vigen](https://www.tylervigen.com/spurious-correlations)"
   ]
  }
 ],
 "metadata": {
  "kernelspec": {
   "display_name": "Python 3",
   "language": "python",
   "name": "python3"
  },
  "language_info": {
   "codemirror_mode": {
    "name": "ipython",
    "version": 3
   },
   "file_extension": ".py",
   "mimetype": "text/x-python",
   "name": "python",
   "nbconvert_exporter": "python",
   "pygments_lexer": "ipython3",
   "version": "3.7.4"
  }
 },
 "nbformat": 4,
 "nbformat_minor": 4
}
