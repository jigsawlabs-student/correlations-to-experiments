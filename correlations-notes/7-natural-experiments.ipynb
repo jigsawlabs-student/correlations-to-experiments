{
 "cells": [
  {
   "cell_type": "markdown",
   "metadata": {},
   "source": [
    "# Natural Experiments"
   ]
  },
  {
   "cell_type": "markdown",
   "metadata": {},
   "source": [
    "1. Natural experiments (or accidental experiments)"
   ]
  },
  {
   "cell_type": "markdown",
   "metadata": {},
   "source": [
    "Find two groups of people who we think would have been the same, but kind of by chance one group of people were treated differently than the others.\n",
    "\n"
   ]
  },
  {
   "cell_type": "markdown",
   "metadata": {},
   "source": [
    "So here, the experiment does not get to choose who gets treated or not treated.  So the best accidental experiments arise out of stupidity.  Because we generally think we should treat two people in the same way.\n",
    "\n",
    "* Separated at birth twin studies\n",
    "\n",
    "\n",
    "* Law changes \n",
    "    * Some people grandfathered in, and others not\n",
    "* So in arbitrary drawing of lines (instead sliding scales)\n",
    "    * Airlines charging - based on categories \n",
    "        * So variation in prices even for two flights essentially the same\n",
    "    * Estimating consumer surplus uber"
   ]
  }
 ],
 "metadata": {
  "kernelspec": {
   "display_name": "Python 3",
   "language": "python",
   "name": "python3"
  },
  "language_info": {
   "codemirror_mode": {
    "name": "ipython",
    "version": 3
   },
   "file_extension": ".py",
   "mimetype": "text/x-python",
   "name": "python",
   "nbconvert_exporter": "python",
   "pygments_lexer": "ipython3",
   "version": "3.7.4"
  }
 },
 "nbformat": 4,
 "nbformat_minor": 4
}
