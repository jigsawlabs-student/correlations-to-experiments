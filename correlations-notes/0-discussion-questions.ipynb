{
 "cells": [
  {
   "cell_type": "markdown",
   "metadata": {},
   "source": [
    "# Data Driven Decisions?"
   ]
  },
  {
   "cell_type": "markdown",
   "metadata": {},
   "source": [
    "## Introduction"
   ]
  },
  {
   "cell_type": "markdown",
   "metadata": {},
   "source": [
    "Perhaps our main goal in use of statistics, is to use evidence to make decisions.  And in doing that, we may prefer to know if one variable causes or contributes to another variable.\n",
    "\n",
    "For example, let's say that we want to use data to decide whether or not opening more prisons is beneficial to society.  For now, we can narrow that questions to, do prisons reduce crime.  In 1976, an article published in The Prison Journal, answered definitely that they do not.  Let's take a look at the argument made in the article."
   ]
  },
  {
   "cell_type": "markdown",
   "metadata": {},
   "source": [
    "### The Argument"
   ]
  },
  {
   "cell_type": "markdown",
   "metadata": {},
   "source": [
    "Here is some of the data in *A Statement on Behalf of a Moratorium on Prison Construction*.  "
   ]
  },
  {
   "cell_type": "markdown",
   "metadata": {},
   "source": [
    "* Background"
   ]
  },
  {
   "cell_type": "markdown",
   "metadata": {},
   "source": [
    "As the article mentions, between 1955 and 1975 15 states increased their prison capacity by 56% (63k to 98k), and 15 states increased their prison capacity increased by only 4% (49k to 51k).  We'll call the first group large increase states, and the second group small increase states.  \n",
    "\n",
    "Now these were the changes in crime for these two groups of states."
   ]
  },
  {
   "cell_type": "markdown",
   "metadata": {},
   "source": [
    "| Tables   |      Prison Capacity    |Crime Rate |\n",
    "|:----------:|:-------------:|:------:|\n",
    "| Large Increase States |  $\\uparrow$ 56% | $\\uparrow$ 167% |\n",
    "| Small Increase States | $\\uparrow$ 4% |    $\\uparrow$ 145% |"
   ]
  },
  {
   "cell_type": "markdown",
   "metadata": {},
   "source": [
    "The authors, looking at the data, concluded that increasing the number of people in prison does not decrease the amount of crime.  "
   ]
  },
  {
   "cell_type": "markdown",
   "metadata": {},
   "source": [
    "* Your task"
   ]
  },
  {
   "cell_type": "markdown",
   "metadata": {},
   "source": [
    "1. Write into words a summary of the data from the chart above and information above.\n",
    "\n",
    "2. Write an argument that uses the data above to support a moratorium on prison building.\n",
    "\n",
    "3. Now, counter that argument.  What are some alternative explanations for the correlation between prison capacity and crime rate.  \n",
    "> Write down as many explanations as you can."
   ]
  },
  {
   "cell_type": "markdown",
   "metadata": {},
   "source": [
    "### Resources"
   ]
  },
  {
   "cell_type": "markdown",
   "metadata": {},
   "source": [
    "[A statement on behalf of a Moratorium on prison construction](https://journals.sagepub.com/doi/abs/10.1177/003288557605600206?journalCode=tpjd)"
   ]
  }
 ],
 "metadata": {
  "kernelspec": {
   "display_name": "Python 3",
   "language": "python",
   "name": "python3"
  },
  "language_info": {
   "codemirror_mode": {
    "name": "ipython",
    "version": 3
   },
   "file_extension": ".py",
   "mimetype": "text/x-python",
   "name": "python",
   "nbconvert_exporter": "python",
   "pygments_lexer": "ipython3",
   "version": "3.7.4"
  }
 },
 "nbformat": 4,
 "nbformat_minor": 4
}
