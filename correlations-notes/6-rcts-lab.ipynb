{
 "cells": [
  {
   "cell_type": "markdown",
   "metadata": {},
   "source": [
    "# Defining An Experiment Lab"
   ]
  },
  {
   "cell_type": "markdown",
   "metadata": {},
   "source": [
    "### Introduction"
   ]
  },
  {
   "cell_type": "markdown",
   "metadata": {},
   "source": [
    "\n",
    "\n",
    "In this lesson, we'll see some good procedures for drawing conclusions from data.  We'll do so by looking at a study conducted by affiliates of JPAL.  \n",
    "\n",
    "> The economists at JPAL [won a nobel prize](https://www.brookings.edu/blog/future-development/2019/11/07/changing-the-culture-of-economics-the-2019-nobel-laureates/) for their efforts in 2019, and lucky for us a collection of their and their affiliates' studies is [publicly available](https://www.povertyactionlab.org/evaluations).\n",
    "\n",
    "We'll be learning about how to work with data in the context of one of their studies [The Oregon Health Insurance Experiment](https://www.povertyactionlab.org/evaluation/oregon-health-insurance-experiment-united-states).  "
   ]
  },
  {
   "cell_type": "markdown",
   "metadata": {},
   "source": [
    "### Making the case"
   ]
  },
  {
   "cell_type": "markdown",
   "metadata": {},
   "source": [
    "We provided a link to the original [The Oregon Health Insurance Experiment](https://www.povertyactionlab.org/evaluation/oregon-health-insurance-experiment-united-states).  And we copied the relevant parts of the study here.  Read our overview of the experiment in this section.  Then you can answer some questions about the study."
   ]
  },
  {
   "cell_type": "markdown",
   "metadata": {},
   "source": [
    "* What was the Oregon Health Insurance Experiment?"
   ]
  },
  {
   "cell_type": "markdown",
   "metadata": {},
   "source": [
    "> In a series of evaluations, researchers took advantage of a lottery that gave low-income uninsured adults the chance to apply for Medicaid in the United States to examine the impact of health insurance on these outcomes over the first two years. "
   ]
  },
  {
   "cell_type": "markdown",
   "metadata": {},
   "source": [
    "* What's medicaid?"
   ]
  },
  {
   "cell_type": "markdown",
   "metadata": {},
   "source": [
    "> Medicaid is a program jointly administered by the states and the federal government in the United States, designed to provide insurance coverage to low-income and disabled Americans. States have a great deal of flexibility in determining eligibility. As part of the Affordable Care Act health insurance reform, states have the option to expand Medicaid to all low-income adults."
   ]
  },
  {
   "cell_type": "markdown",
   "metadata": {},
   "source": [
    "* The Oregon Health Plan"
   ]
  },
  {
   "cell_type": "markdown",
   "metadata": {},
   "source": [
    "> The state of Oregon's Oregon Health Plan (OHP) Standard Medicaid program did cover low-income, uninsured, able-bodied adults who were ineligible for other public health insurance. It included comprehensive health benefits covering doctor visits, hospital stays for major illnesses, and prescription medication with no copayments."
   ]
  },
  {
   "cell_type": "markdown",
   "metadata": {},
   "source": [
    "* More details"
   ]
  },
  {
   "cell_type": "markdown",
   "metadata": {},
   "source": [
    "> In 2008, the state of Oregon decided that the OHP Standard program could accommodate 10,000 new enrollees. Oregon state health officials correctly anticipated that the demand for OHP Standard would far exceed the number of slots available and decided that a lottery was the fairest way to allocate these scarce slots. The state conducted extensive outreach. Of the about 75,000 individuals who signed up, the lottery randomly selected about 30,000 winners between March and September 2008. These selected individuals comprised the treatment group. Those who filled out an application that demonstrated their eligibility within 45 days of winning the lottery (about 30 percent of the winners) were enrolled in OHP Standard. Those who were not selected by the lottery formed the control group."
   ]
  },
  {
   "cell_type": "markdown",
   "metadata": {},
   "source": [
    "> The results measure the impact of Medicaid coverage by comparing the individuals who won the lottery to the individuals not selected by the lottery (the control group), under the assumption that the only reason these groups differ is because of the increased Medicaid coverage among those selected by the lottery. Because winning the lottery only increased the probability of Medicaid coverage by about 25 percentage points, the effect of Medicaid coverage is found by multiplying the effect of winning the lottery by four."
   ]
  },
  {
   "cell_type": "markdown",
   "metadata": {},
   "source": [
    "### Questions"
   ]
  },
  {
   "cell_type": "markdown",
   "metadata": {},
   "source": [
    "1. Now let's break down the experiment above beginning with the hypothesis question.  Identify the following:\n",
    "\n",
    "* Population\n",
    "\n",
    "* Intervention\n",
    "\n",
    "* Comparator\n",
    "\n",
    "* Outcome"
   ]
  },
  {
   "cell_type": "markdown",
   "metadata": {},
   "source": [
    "2. How was the sample selected?\n",
    "\n"
   ]
  },
  {
   "cell_type": "markdown",
   "metadata": {},
   "source": [
    "3. Look at the following statement\n",
    "\n",
    "> The results measure the impact of Medicaid coverage by comparing the individuals who won the lottery to the individuals not selected by the lottery (the control group), under the assumption that the only reason these groups differ is because of the increased Medicaid coverage among those selected by the lottery."
   ]
  },
  {
   "cell_type": "markdown",
   "metadata": {},
   "source": [
    "* Are there any reasons you see that may counter this assumption?"
   ]
  },
  {
   "cell_type": "markdown",
   "metadata": {},
   "source": [
    "4. Are there any other issues you can see with experiment?"
   ]
  },
  {
   "cell_type": "markdown",
   "metadata": {},
   "source": [
    "### Resources\n",
    "* [Poor Economics](https://www.amazon.com/Poor-Economics-Radical-Rethinking-Poverty-ebook/dp/B007CI81IQ)\n",
    "\n",
    "* [How to Lie With Statistics](https://www.amazon.com/gp/product/0393310728?pf_rd_r=XJ7W56WPWRSVMCP4Z0SJ&pf_rd_p=ab873d20-a0ca-439b-ac45-cd78f07a84d8)\n",
    "\n",
    "* [Statistics as a Principled Argument](https://www.amazon.com/Statistics-Principled-Argument-Robert-Abelson-ebook/dp/B009E3EQOK)\n",
    "\n",
    "* [Naked Statistics](https://www.amazon.com/Naked-Statistics-Stripping-Dread-Data-ebook/dp/B007Q6XLF2)\n",
    "\n",
    "* [Think Stats](https://greenteapress.com/thinkstats/)\n",
    "\n"
   ]
  }
 ],
 "metadata": {
  "kernelspec": {
   "display_name": "Python 3",
   "language": "python",
   "name": "python3"
  },
  "language_info": {
   "codemirror_mode": {
    "name": "ipython",
    "version": 3
   },
   "file_extension": ".py",
   "mimetype": "text/x-python",
   "name": "python",
   "nbconvert_exporter": "python",
   "pygments_lexer": "ipython3",
   "version": "3.7.4"
  }
 },
 "nbformat": 4,
 "nbformat_minor": 4
}
