{
 "cells": [
  {
   "cell_type": "markdown",
   "metadata": {},
   "source": [
    "# Cause and Effect Notes"
   ]
  },
  {
   "cell_type": "markdown",
   "metadata": {},
   "source": [
    "The principal goals in statistics and data science is to describe and explain our world.  Describing our world with data involves descriptive statistics.  "
   ]
  },
  {
   "cell_type": "markdown",
   "metadata": {},
   "source": [
    "> Finding an underlying cause is important because if we can change that cause, we can impact the effect."
   ]
  },
  {
   "cell_type": "markdown",
   "metadata": {},
   "source": [
    "### Illustrating cause and effect"
   ]
  },
  {
   "cell_type": "markdown",
   "metadata": {},
   "source": [
    "We'll represent cause and effect like the following."
   ]
  },
  {
   "cell_type": "markdown",
   "metadata": {},
   "source": [
    "![](https://mermaid.ink/img/eyJjb2RlIjoiZ3JhcGggTFJcbiAgICBDYXVzZS0tPkVmZmVjdFxuXHRcblx0XHRcdFx0XHQiLCJtZXJtYWlkIjp7InRoZW1lIjoiZGVmYXVsdCJ9LCJ1cGRhdGVFZGl0b3IiOmZhbHNlfQ)"
   ]
  },
  {
   "cell_type": "markdown",
   "metadata": {},
   "source": [
    "$Smoking \\rightarrow Cancer$"
   ]
  },
  {
   "cell_type": "markdown",
   "metadata": {},
   "source": [
    "Now in the diagram above, the variable we are trying to explain or predict is called the **response variable**, **outcome** or the **target**.  It's also called the *dependent variable*.\n",
    ">  Above, lung cancer is the outcome, or target, or dependent variable.\n",
    "\n",
    "And the input, smoking, is called the **explanatory variable**, as it is used to explain the incidence of lung cancer."
   ]
  },
  {
   "cell_type": "markdown",
   "metadata": {},
   "source": [
    "Note that our illustration of causation has a direction.  Smoking causes lung cancer.  But this does not mean that lung cancer causes smoking.  "
   ]
  },
  {
   "cell_type": "markdown",
   "metadata": {},
   "source": [
    "### Why we Care"
   ]
  },
  {
   "cell_type": "markdown",
   "metadata": {},
   "source": [
    "As we mentioned, establishing causation is so important because it helps us know what to do."
   ]
  },
  {
   "cell_type": "markdown",
   "metadata": {},
   "source": [
    "Once we establish that smoking causes lung cancer, if we can change the amount of people who smoke we can change incidence of lung cancer."
   ]
  },
  {
   "cell_type": "markdown",
   "metadata": {},
   "source": [
    "$Smoking \\rightarrow Cancer$"
   ]
  },
  {
   "cell_type": "markdown",
   "metadata": {},
   "source": [
    "Therefore:"
   ]
  },
  {
   "cell_type": "markdown",
   "metadata": {},
   "source": [
    "* $Increase$ $Smoking$ $\\rightarrow$ $Increase$ $Lung$ $Cancer$\n",
    "\n",
    "* $Decrease$ $Smoking$ $\\rightarrow$ $Decrease$ $Lung$ $Cancer$"
   ]
  },
  {
   "cell_type": "markdown",
   "metadata": {},
   "source": [
    "### How to establish causation"
   ]
  },
  {
   "cell_type": "markdown",
   "metadata": {},
   "source": [
    "Now while causation is excellent because it can tell us how we can impact a desired outcome, unfortunately establishing causation can be difficult.  For example, the impact of smoking on lung cancer is indirect.  Smoking increases the risk of cancer by weakening a person's immune system, and damaging a cell's DNA which increases the risk of cancer."
   ]
  },
  {
   "cell_type": "markdown",
   "metadata": {},
   "source": [
    "![](https://mermaid.ink/img/eyJjb2RlIjoiZ3JhcGggTFJcblx0QVtTbW9raW5nXSAtLT4gQihXZWFrZW5lZCBJbW11bmUgU3lzdGVtKVxuXHRBIC0tPiBDKERhbWFnZWQgRE5BKVxuXHRCIC0tPkRbTHVuZyBDYW5jZXJdXG5cdEMgLS0-RFtMdW5nIENhbmNlcl1cblx0XHRcdFx0XHRcblx0IiwibWVybWFpZCI6eyJ0aGVtZSI6ImRlZmF1bHQifSwidXBkYXRlRWRpdG9yIjpmYWxzZX0)"
   ]
  },
  {
   "cell_type": "markdown",
   "metadata": {},
   "source": [
    "And establishing these links can be difficult."
   ]
  },
  {
   "cell_type": "markdown",
   "metadata": {},
   "source": [
    "<img src=\"./lung-cancer-cigarrettes.png\" width=\"50%\">"
   ]
  },
  {
   "cell_type": "markdown",
   "metadata": {},
   "source": [
    "But what the chart above illustrates is **correlation** not *causation*."
   ]
  },
  {
   "cell_type": "markdown",
   "metadata": {},
   "source": [
    "> Correlation between two variables, $X$ and $Y$, exists if knowing something about the value of X tells us something about the value of Y.  \n",
    "\n",
    "> Correlation exists between two variables $X$ and $Y$ if $ P(Y) \\ne  P(Y|X)$."
   ]
  },
  {
   "cell_type": "markdown",
   "metadata": {},
   "source": [
    "### Summary"
   ]
  },
  {
   "cell_type": "markdown",
   "metadata": {},
   "source": [
    "### Resources"
   ]
  },
  {
   "cell_type": "markdown",
   "metadata": {},
   "source": [
    "[Smoking and Cancer](https://www.cdc.gov/tobacco/campaign/tips/diseases/cancer.html)"
   ]
  },
  {
   "cell_type": "markdown",
   "metadata": {},
   "source": [
    "[Calling Bullshit Course](https://www.youtube.com/watch?v=YAAHJm1pi1E&list=PLPnZfvKID1Sje5jWxt-4CSZD7bUI4gSPS&index=12)"
   ]
  },
  {
   "cell_type": "markdown",
   "metadata": {},
   "source": [
    "[Steve Levitt: Learning From Data](https://www.youtube.com/watch?v=2EH1D3nhOGI)"
   ]
  }
 ],
 "metadata": {
  "kernelspec": {
   "display_name": "Python 3",
   "language": "python",
   "name": "python3"
  },
  "language_info": {
   "codemirror_mode": {
    "name": "ipython",
    "version": 3
   },
   "file_extension": ".py",
   "mimetype": "text/x-python",
   "name": "python",
   "nbconvert_exporter": "python",
   "pygments_lexer": "ipython3",
   "version": "3.7.4"
  }
 },
 "nbformat": 4,
 "nbformat_minor": 4
}
