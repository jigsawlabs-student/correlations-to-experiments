{
 "cells": [
  {
   "cell_type": "markdown",
   "metadata": {},
   "source": [
    "## Was there an effect"
   ]
  },
  {
   "cell_type": "markdown",
   "metadata": {},
   "source": [
    "### Null Hypothesis Significance Testing"
   ]
  },
  {
   "cell_type": "markdown",
   "metadata": {},
   "source": [
    "So now we administer health insurance to one group, and not the other."
   ]
  },
  {
   "cell_type": "markdown",
   "metadata": {},
   "source": [
    "> No health insurance: bp decreases 1 point\n",
    "\n",
    "> Health insurance: *decrease* by 10 points"
   ]
  },
  {
   "cell_type": "markdown",
   "metadata": {},
   "source": [
    "Is this due just to random variation?"
   ]
  },
  {
   "cell_type": "markdown",
   "metadata": {},
   "source": [
    "Null hypothesis testing and p-values can help us out.\n",
    "\n",
    "The logic goes like this.  \n",
    "\n",
    "1. We see a difference between the two groups\n",
    "2. But let's still, assume the treatment had no effect.  This is our null hypothesis.\n",
    "3. Assuming the treatment had no effect, what's the probability of seeing an difference at least this large.\n",
    "4. If that probability is small, then we reject the null hypothesis and conclude there is evidence for the alternative hypothesis."
   ]
  },
  {
   "cell_type": "markdown",
   "metadata": {},
   "source": [
    "### 1. Set up the hypotheses"
   ]
  },
  {
   "cell_type": "markdown",
   "metadata": {},
   "source": [
    "Our first step is to establish our null and alternative hypothesis."
   ]
  },
  {
   "cell_type": "markdown",
   "metadata": {},
   "source": [
    "* The null hypothesis:\n",
    "* The alternative hypothesis:\n",
    "\n",
    "The null hypothesis is always that the treatment has no effect.  Or in other words, that nothing interesting occurs.  The alternative hypothesis is that the treatment does have an effect. \n",
    "\n",
    "We symbolize the null hypothesis as $H_0$ and the alternative hypothesis as $H_A$.  So here we can specify our hypotheses as the following:\n",
    "\n",
    "* $H_0:$\n",
    "* $H_A:$"
   ]
  },
  {
   "cell_type": "markdown",
   "metadata": {},
   "source": [
    "### 2. Assume the null hypothesis"
   ]
  },
  {
   "cell_type": "markdown",
   "metadata": {},
   "source": [
    "After setting up $H_0$ and $H_A$, the next step is to perform the experiment, collect the results and see if anything occurred.  To see if anything occurred, we assume the null hypothesis.  \n",
    "\n",
    "\n",
    "Then the p-value is the probability that nothing happened, assuming the null hypothesis is true. \n",
    "\n",
    "If the probability seeing our result given the null hypothesis is less than some threshold, we reject the null hypothesis. \n",
    "> Generally the threshold is a number like $.05$ or $.01$.  Let's say for this experiment it's $.05$."
   ]
  },
  {
   "cell_type": "markdown",
   "metadata": {},
   "source": [
    "We can write, the probability of $x$ given the null hypothesis like so:\n",
    "\n",
    "> $P(X | H_0)$"
   ]
  },
  {
   "cell_type": "markdown",
   "metadata": {},
   "source": [
    "So then we can say that our logic for whether to reject the null hypothesis is:"
   ]
  },
  {
   "cell_type": "markdown",
   "metadata": {},
   "source": [
    "If $P(x | H_0) < .05$:\n",
    "\n",
    "* Reject null hypothesis and have evidence for the alternative hypothesis."
   ]
  },
  {
   "cell_type": "markdown",
   "metadata": {},
   "source": [
    "If $P(x|H_0 ) > .05$:\n",
    "* Do not reject the null hypothesis.  \n",
    "* It could be due to random chance."
   ]
  },
  {
   "cell_type": "markdown",
   "metadata": {},
   "source": [
    "That probability, the probability of the null hypothesis being true, is called the p-value.\n",
    "\n",
    "> The p-value is the probability of seeing the observed data assuming the null hypothesis is true.  That is, it is the probability that nothing is going on, but we still observed experiment's effect, just due to random chance."
   ]
  },
  {
   "cell_type": "markdown",
   "metadata": {},
   "source": [
    "### What's the threshold?"
   ]
  },
  {
   "cell_type": "markdown",
   "metadata": {},
   "source": [
    "<img src=\"https://imgs.xkcd.com/comics/p_values_2x.png\" width=\"25%\">"
   ]
  },
  {
   "cell_type": "markdown",
   "metadata": {},
   "source": [
    "Generally, anywhere at $.01$ or lower is considered significant.  And between $.01$ and $.05$ we can say is maybe significant.  Anywhere above that and we do not have enough evidence to reject the null hypothesis."
   ]
  },
  {
   "cell_type": "markdown",
   "metadata": {},
   "source": [
    "### Resources"
   ]
  },
  {
   "cell_type": "markdown",
   "metadata": {},
   "source": [
    "[Khan Academy P-values](https://www.khanacademy.org/math/statistics-probability/significance-tests-one-sample/more-significance-testing-videos/v/hypothesis-testing-and-p-values)"
   ]
  },
  {
   "cell_type": "markdown",
   "metadata": {},
   "source": [
    "[AB Testing Neil Patel](https://neilpatel.com/blog/50-split-testing-ideas-you-can-run-today/)\n",
    "\n",
    "[Neil Patel Continued](https://neilpatel.com/blog/19-obvious-ab-tests/)"
   ]
  }
 ],
 "metadata": {
  "kernelspec": {
   "display_name": "Python 3",
   "language": "python",
   "name": "python3"
  },
  "language_info": {
   "codemirror_mode": {
    "name": "ipython",
    "version": 3
   },
   "file_extension": ".py",
   "mimetype": "text/x-python",
   "name": "python",
   "nbconvert_exporter": "python",
   "pygments_lexer": "ipython3",
   "version": "3.7.4"
  }
 },
 "nbformat": 4,
 "nbformat_minor": 4
}
