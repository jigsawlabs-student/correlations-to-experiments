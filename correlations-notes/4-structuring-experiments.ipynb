{
 "cells": [
  {
   "cell_type": "markdown",
   "metadata": {},
   "source": [
    "# Structuring Experiments"
   ]
  },
  {
   "cell_type": "markdown",
   "metadata": {},
   "source": [
    "### Introduction"
   ]
  },
  {
   "cell_type": "markdown",
   "metadata": {},
   "source": [
    "### What's an Experiment?"
   ]
  },
  {
   "cell_type": "markdown",
   "metadata": {},
   "source": [
    "The idea of an experiment is that we take two groups that are similar, and the administer a *treatment* to one of them.  If the group that gets the treatment has a different outcome than the original group, we say that the treatment caused an effect.  \n",
    "\n"
   ]
  },
  {
   "cell_type": "markdown",
   "metadata": {},
   "source": [
    "### 1. Define the hypothesis"
   ]
  },
  {
   "cell_type": "markdown",
   "metadata": {},
   "source": [
    "> A hypothesis is a testable explanation for an outcome."
   ]
  },
  {
   "cell_type": "markdown",
   "metadata": {},
   "source": [
    "Eg. Hypothesis:\n",
    "   > Aspirin reduces the chance of a heart attack for those who have been diagnosed with heart disease."
   ]
  },
  {
   "cell_type": "markdown",
   "metadata": {},
   "source": [
    "* Population -  \n",
    "* Intervention -\n",
    "* Comparator - \n",
    "* Outcome - \n",
    "* Time - "
   ]
  },
  {
   "cell_type": "markdown",
   "metadata": {},
   "source": [
    "* The **population** is a set of similar items or events which is of interest for some question or experiment.\n",
    "> Here it's individuals diagnosed with heart disease.\n",
    "\n",
    "* The **intervention** is the change we are testing.  \n",
    "> Here it is taking 75 to 100 milligrams of aspirin daily.\n",
    "\n",
    "* The **comparator** is the approach you're comparing the intervention to\n",
    "    * It can be the placebo, doing nothing, or alternative treatment already in use.\n",
    "    > Here, the comparator is doing nothing.\n",
    "* **Outcome**\n",
    "    * Here the outcome is the number of heart attacks a person has during the study. "
   ]
  },
  {
   "cell_type": "markdown",
   "metadata": {},
   "source": [
    "### 2. Select/enroll a **sample** of participants\n",
    "\n",
    "> A sample is a set of items or events selected from our population and that we gather data in, in the study."
   ]
  },
  {
   "cell_type": "markdown",
   "metadata": {},
   "source": [
    "### 3. Distinguish between Treatment and Control"
   ]
  },
  {
   "cell_type": "markdown",
   "metadata": {},
   "source": [
    "Once we have a sample of our population we:\n",
    "\n",
    "\n",
    "* Randomly separate the participants into a treatment group and a control group\n",
    "*  Deliver a treatment to one group and nothing (or a placebo) to the other"
   ]
  },
  {
   "cell_type": "markdown",
   "metadata": {},
   "source": [
    "### 4. See the results"
   ]
  },
  {
   "cell_type": "markdown",
   "metadata": {},
   "source": [
    "* **If** after the treatment, **we see a difference** in outcomes in the groups:\n",
    "* **Then** we believe we can **attribute it to the treatment** itself\n",
    "* **Because** otherwise the two groups would have looked the same."
   ]
  },
  {
   "cell_type": "markdown",
   "metadata": {},
   "source": [
    "### Resources\n",
    "* [Guide to RCTs](https://obgyn.onlinelibrary.wiley.com/doi/pdf/10.1111/aogs.13309)\n",
    "\n",
    "* [Hypothesis Writing](http://www.pocog.org.au/doc/hypothesiswriting.pdf)\n",
    "\n",
    "* [HDL Experiments](https://www.nih.gov/news-events/nih-research-matters/when-hdl-cholesterol-doesnt-protect-against-heart-disease)\n",
    "\n",
    "* [HDL and Heart Attacks](https://www.ncbi.nlm.nih.gov/pmc/articles/PMC2903818/)\n",
    "\n",
    "* [College for Masses](https://www.nytimes.com/2015/04/26/upshot/college-for-the-masses.html)\n",
    "\n",
    "* [Steve Levitt Interviewed by Famous Journalist](https://dailynorthwestern.com/2004/03/01/archive-manual/names-with-racial-connotations-not-a-disadvantage-speaker-says/#)"
   ]
  }
 ],
 "metadata": {
  "kernelspec": {
   "display_name": "Python 3",
   "language": "python",
   "name": "python3"
  },
  "language_info": {
   "codemirror_mode": {
    "name": "ipython",
    "version": 3
   },
   "file_extension": ".py",
   "mimetype": "text/x-python",
   "name": "python",
   "nbconvert_exporter": "python",
   "pygments_lexer": "ipython3",
   "version": "3.7.4"
  }
 },
 "nbformat": 4,
 "nbformat_minor": 4
}
