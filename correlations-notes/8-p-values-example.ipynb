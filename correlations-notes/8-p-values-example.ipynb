{
 "cells": [
  {
   "cell_type": "markdown",
   "metadata": {},
   "source": [
    "# Null hypothesis testing example"
   ]
  },
  {
   "cell_type": "markdown",
   "metadata": {},
   "source": [
    "1. We see a difference between the two groups\n",
    "2. But let's still, assume the treatment had no effect.  This is our null hypothesis.\n",
    "3. Assuming the treatment had no effect, what's the probability of seeing an difference at least this large.\n",
    "4. If that probability is small, then we reject the null hypothesis and conclude there is evidence for the alternative hypothesis."
   ]
  },
  {
   "cell_type": "markdown",
   "metadata": {},
   "source": [
    "### Example"
   ]
  },
  {
   "cell_type": "markdown",
   "metadata": {},
   "source": [
    "Ok, so let's say that we are thinking of a different marketing tags for a product we are selling online.  Currently we emphasize the low price, and we want to set up an experiment to see if we should emphasize the quality.  We decide to send two different emails, randomly selecting our treatment and control group.\n",
    "\n",
    "The click through rate for the control group is $.20$.  "
   ]
  },
  {
   "cell_type": "markdown",
   "metadata": {},
   "source": [
    "We send emails to a total of 100 users, 50 in the treatement and 50 in the control.  \n",
    "\n",
    "We see that the click through rate for the control group is .22, and that the pooled standard deviation of both the treatment and the control is $.10$."
   ]
  },
  {
   "cell_type": "markdown",
   "metadata": {},
   "source": [
    "We set a significance level of .05, or $\\alpha = .05$."
   ]
  },
  {
   "cell_type": "markdown",
   "metadata": {},
   "source": [
    "### Performing the analysis"
   ]
  },
  {
   "cell_type": "markdown",
   "metadata": {},
   "source": [
    "Ok, now with this information, we can see if we have evidence for the alternative hypothesis that advertising quality improves our click through rate."
   ]
  },
  {
   "cell_type": "markdown",
   "metadata": {},
   "source": [
    "First, we state our null and alternative hypotheses.\n",
    "\n",
    "* $H_0: CTR \\le .20$\n",
    "* $H_A: CTR \\gt$  $.20$\n",
    "\n",
    "And remember that we observed a click through rate of .25.\n",
    "\n",
    "* $x_T = .25$\n",
    "\n",
    "So the question that we have is, what is the probability that we would see this CTR of $.25$, if there were no change.  In other words:\n",
    "\n",
    "* What is $P(x < .25 | H_0)$\n",
    "\n",
    "\n",
    "We can answer this question like so.  \n",
    "\n",
    "First, what is the distribution of the means.  Well we would plot a normal distribution (because of central limit theorem), with a standard deviation of the means of $se = \\frac{S}{\\sqrt(n)}$.  "
   ]
  },
  {
   "cell_type": "code",
   "execution_count": 2,
   "metadata": {},
   "outputs": [],
   "source": [
    "import numpy as np\n",
    "sd = .1\n",
    "se = sd/np.sqrt(100)"
   ]
  },
  {
   "cell_type": "code",
   "execution_count": 3,
   "metadata": {},
   "outputs": [
    {
     "data": {
      "text/plain": [
       "0.01"
      ]
     },
     "execution_count": 3,
     "metadata": {},
     "output_type": "execute_result"
    }
   ],
   "source": [
    "se"
   ]
  },
  {
   "cell_type": "markdown",
   "metadata": {},
   "source": [
    "From there, we can plot the standard deviation of the means like so.  We assume the null hypothesis that there's an average of .20, with the standard deviation of the means that we calculated above."
   ]
  },
  {
   "cell_type": "code",
   "execution_count": 4,
   "metadata": {},
   "outputs": [],
   "source": [
    "import scipy.stats as stats\n",
    "import numpy as np\n",
    "x_null = .20\n",
    "norm_dist = stats.norm(x_null, se)"
   ]
  },
  {
   "cell_type": "markdown",
   "metadata": {},
   "source": [
    "We can plot the corresponding distribution of the means, assuming the null hypothesis, like so."
   ]
  },
  {
   "cell_type": "code",
   "execution_count": 20,
   "metadata": {},
   "outputs": [],
   "source": [
    "x_vals = np.linspace(norm_dist.ppf(0.00001), norm_dist.ppf(0.99999), 100)\n",
    "pdf_nums_norm = norm_dist.pdf(x_vals)"
   ]
  },
  {
   "cell_type": "code",
   "execution_count": 1,
   "metadata": {},
   "outputs": [],
   "source": [
    "# from scipy.stats import norm\n",
    "# import matplotlib.pyplot as plt\n",
    "# fig = plt.figure()\n",
    "# ax = fig.add_subplot(111)\n",
    "# ax.plot(x_vals, pdf_nums_norm,\n",
    "# 'r-', lw=5, alpha=0.6, label='norm pdf')\n",
    "# ax.axvline(x=.22)\n",
    "# ax.set(title = 'normal distribution')"
   ]
  },
  {
   "cell_type": "code",
   "execution_count": 23,
   "metadata": {},
   "outputs": [
    {
     "data": {
      "text/plain": [
       "0.02275013194817932"
      ]
     },
     "execution_count": 23,
     "metadata": {},
     "output_type": "execute_result"
    }
   ],
   "source": [
    "1 - norm_dist.cdf(.22)"
   ]
  }
 ],
 "metadata": {
  "kernelspec": {
   "display_name": "Python 3",
   "language": "python",
   "name": "python3"
  },
  "language_info": {
   "codemirror_mode": {
    "name": "ipython",
    "version": 3
   },
   "file_extension": ".py",
   "mimetype": "text/x-python",
   "name": "python",
   "nbconvert_exporter": "python",
   "pygments_lexer": "ipython3",
   "version": "3.7.4"
  }
 },
 "nbformat": 4,
 "nbformat_minor": 4
}
