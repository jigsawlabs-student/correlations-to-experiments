{
 "cells": [
  {
   "cell_type": "markdown",
   "metadata": {},
   "source": [
    "## Was there an effect"
   ]
  },
  {
   "cell_type": "markdown",
   "metadata": {},
   "source": [
    "Now, as we mentioned, the idea with experiments is to select a sample from our population, randomly separate the groups, and give one of the groups the treatment.  The idea behind the experiment is that if there is a difference between the two groups, then the only explanation remaining explanation is the treatment.\n",
    "\n",
    "> Now, it will be up to designers and interpreters of the experiment to ensure that it was designed in such a way that it cannot be due to an explanation.\n",
    "\n",
    "Now one reason behind an apparent effect could randomness.  To test whether an apparent effect is due to randomness, statisticians use the p values."
   ]
  },
  {
   "cell_type": "markdown",
   "metadata": {},
   "source": [
    "### Null Hypothesis Significance Testing"
   ]
  },
  {
   "cell_type": "markdown",
   "metadata": {},
   "source": [
    "Let's say we conduct the experiment and we see a difference between the two groups.  Those who received health insurance saw their depression decrease by 10 points, where those did not get health insurance saw it decrease by 1 point."
   ]
  },
  {
   "cell_type": "markdown",
   "metadata": {},
   "source": [
    "Now we know that even if there was no treatment, there will like be a change in the depression.  So was this due to chance or because of the health insurance?\n",
    "\n",
    "The logic behind p-values goes like this.  \n",
    "1. We see a difference between the two groups\n",
    "1. But let's assume the treatment had no effect.\n",
    "2. Assuming the treatment had no effect, what's the probability of seeing an difference at least this large.\n",
    "4. If that probability is small, the effect is probably not due to randomness."
   ]
  },
  {
   "cell_type": "markdown",
   "metadata": {},
   "source": [
    "Assume hypothesis is true, then the probability of this observed outcome is this percent."
   ]
  },
  {
   "cell_type": "markdown",
   "metadata": {},
   "source": [
    "$H_o$: null hypothesis (or no difference hypothesis)\n",
    "    * There's no news here.  Nothing's going on.\n",
    "    \n",
    "* $H_a$: There's a difference"
   ]
  },
  {
   "cell_type": "code",
   "execution_count": null,
   "metadata": {},
   "outputs": [],
   "source": []
  },
  {
   "cell_type": "code",
   "execution_count": 6,
   "metadata": {},
   "outputs": [],
   "source": [
    "import pandas as pd\n",
    "\n",
    "df = pd.read_csv(\"./oregon_health_insurance.csv\", index_col = 0)"
   ]
  },
  {
   "cell_type": "code",
   "execution_count": 7,
   "metadata": {},
   "outputs": [
    {
     "data": {
      "text/plain": [
       "Index(['treatment', 'depression_pre', 'depression_post', 'bp_dias', 'bp_syst',\n",
       "       'er_visits', 'borrow_for_med'],\n",
       "      dtype='object')"
      ]
     },
     "execution_count": 7,
     "metadata": {},
     "output_type": "execute_result"
    }
   ],
   "source": [
    "df.columns"
   ]
  },
  {
   "cell_type": "markdown",
   "metadata": {},
   "source": [
    "![](https://mermaid.ink/img/eyJjb2RlIjoiZ3JhcGggTFJcbiAgICBHWyBGb3JtIEh5cG90aGVzaXMgUXVlc3Rpb246IFBJQ09dXG4gICAgXG5cdEFbRGVmaW5lIHBvcHVsYXRpb25dIC0tPiBCKEVucm9sbCBTYW1wbGUpXG5cdHN0eWxlIEQgZmlsbDojZjlmLHN0cm9rZTojMzMzLHN0cm9rZS13aWR0aDo0cHhcbiAgICBCKEVucm9sbCBTYW1wbGUpIC0tPiBcblx0Q1tSYW5kb21seSBTcGxpdF0gLS0-fERlbGl2ZXIgVHJlYXRtZW50fCBEW1RyZWF0bWVudCBHcm91cF1cblx0QyAtLT58RGVsaXZlciBDb21wYXJhdG9yfCBFW0NvbnRyb2wgR3JvdXBdXG4gICAgRSAtLi1IW0RpZmZlcmVuY2U_XVxuICAgIEQgLS4tSFtEaWZmZXJlbmNlP11cblx0XG5cdFx0XHRcdFx0IiwibWVybWFpZCI6eyJ0aGVtZSI6ImRlZmF1bHQifSwidXBkYXRlRWRpdG9yIjpmYWxzZX0)\n"
   ]
  },
  {
   "cell_type": "code",
   "execution_count": null,
   "metadata": {},
   "outputs": [],
   "source": []
  },
  {
   "cell_type": "markdown",
   "metadata": {},
   "source": [
    "[Selection bias](https://wiki.ecdc.europa.eu/fem/Pages/Preventing%20bias.aspx)"
   ]
  },
  {
   "cell_type": "markdown",
   "metadata": {},
   "source": [
    "[BMJ](https://www.bmj.com/about-bmj/resources-readers/publications/statistics-square-one/7-t-tests)"
   ]
  },
  {
   "cell_type": "code",
   "execution_count": null,
   "metadata": {},
   "outputs": [],
   "source": []
  }
 ],
 "metadata": {
  "kernelspec": {
   "display_name": "Python 3",
   "language": "python",
   "name": "python3"
  },
  "language_info": {
   "codemirror_mode": {
    "name": "ipython",
    "version": 3
   },
   "file_extension": ".py",
   "mimetype": "text/x-python",
   "name": "python",
   "nbconvert_exporter": "python",
   "pygments_lexer": "ipython3",
   "version": "3.7.4"
  }
 },
 "nbformat": 4,
 "nbformat_minor": 4
}
